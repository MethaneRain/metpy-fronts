{
 "cells": [
  {
   "cell_type": "markdown",
   "metadata": {},
   "source": [
    "<h4><p style = \"font-family:georgia,garamond,serif;font-size:16px;font-style:italic;\">Grabbing Frontal and Surface High/Low Data from WPC current archive on THREDDS Server Using BeautifulSoup and Urllib</p></h4>"
   ]
  },
  {
   "cell_type": "code",
   "execution_count": 92,
   "metadata": {},
   "outputs": [],
   "source": [
    "# Imports\n",
    "\n",
    "import pandas as pd\n",
    "from bs4 import BeautifulSoup\n",
    "import urllib.request\n",
    "import requests\n",
    "from datetime import datetime"
   ]
  },
  {
   "cell_type": "markdown",
   "metadata": {},
   "source": [
    "#### Set a time and date for the desired file download"
   ]
  },
  {
   "cell_type": "code",
   "execution_count": 129,
   "metadata": {},
   "outputs": [],
   "source": [
    "date = datetime(2020,10,26,0)\n",
    "\n",
    "HH = f\"{ok:%H}\"\n",
    "MM = f\"{ok:%m}\"\n",
    "DD = f\"{ok:%d}\"\n",
    "YYYY = ok.year\n",
    "\n",
    "high_res = True\n",
    "\n",
    "URL = \"https://thredds-test.unidata.ucar.edu/thredds/catalog/noaaport/text/fronts/catalog.html\"\n",
    "response = urllib.request.urlopen(URL)\n",
    "html = response.read()\n",
    "\n",
    "soup = BeautifulSoup(html)\n"
   ]
  },
  {
   "cell_type": "markdown",
   "metadata": {},
   "source": [
    "#### Get all available date-time text (.txt) files currently on the THREDDS Server\n",
    "\n",
    "* ~1 month of past data from current date back"
   ]
  },
  {
   "cell_type": "code",
   "execution_count": 130,
   "metadata": {},
   "outputs": [],
   "source": [
    "urls = []\n",
    "names = []\n",
    "for i, link in enumerate(soup.findAll('a')):\n",
    "    FULLURL = URL + link.get('href')\n",
    "    if FULLURL.endswith('.txt'):\n",
    "        urls.append(soup.select('a')[i].attrs['href'])\n"
   ]
  },
  {
   "cell_type": "code",
   "execution_count": 141,
   "metadata": {},
   "outputs": [
    {
     "name": "stdout",
     "output_type": "stream",
     "text": [
      "Furthest back date-time:\n",
      "     Fronts_KWBC_20200927_0100.txt\n",
      "\n",
      "Most recent date-time:\n",
      "     Fronts_highres_KWBC_20201027_1200.txt\n"
     ]
    }
   ],
   "source": [
    "# Take a rough look at the date range available\n",
    "\n",
    "base_len = len(\"'https://thredds-test.unidata.ucar.edu/thredds/fileServer/noaaport/text/fronts/\")\n",
    "print(f\"Furthest back date-time:\\n     {urls[0][base_len-1:]}\\n\")\n",
    "print(f\"Most recent date-time:\\n     {urls[-1][base_len-1:]}\")"
   ]
  },
  {
   "cell_type": "markdown",
   "metadata": {},
   "source": [
    "#### Pythonic way of downloading file:\n",
    "\n",
    "##### ```urllib.request.urlopen``` to download the text and write to textfile(s)\n",
    "* See below for the often simpler ```wget``` for command line routine also"
   ]
  },
  {
   "cell_type": "code",
   "execution_count": 131,
   "metadata": {},
   "outputs": [],
   "source": [
    "base_url = \"https://thredds-test.unidata.ucar.edu/thredds/fileServer/noaaport/text/fronts/\"\n",
    "\n",
    "if high_res == True:\n",
    "    txt_url = f\"Fronts_highres_KWBC_{date.year}{date:%m}{date:%d}_{date:%H}00.txt\"\n",
    "else:\n",
    "#if high_res == False:\n",
    "    txt_url = f\"Fronts_KWBC_{date.year}{date:%m}{date:%d}_{date:%H}00.txt\"\n",
    "\n",
    "one_url = base_url + txt_url\n",
    "res = urllib.request.urlopen(one_url)\n",
    "fronts_txt = open(txt_url, 'wb')\n",
    "fronts_txt.write(res.read())\n",
    "fronts_txt.close()"
   ]
  },
  {
   "cell_type": "raw",
   "metadata": {},
   "source": [
    "for name, url in names_urls:\n",
    "    print(url)\n",
    "    #rq = urllib.request(url)\n",
    "    res = urllib.request.urlopen(url)\n",
    "    pdf = open(name, 'wb')\n",
    "    pdf.write(res.read())\n",
    "    pdf.close()"
   ]
  },
  {
   "cell_type": "markdown",
   "metadata": {},
   "source": [
    "##### Note - \n",
    "\n",
    "##### A common problem is that the coded lat/lon values aren't always 7-digits. What happens then?\n",
    "\n",
    "* Run an exception; however the data will not be able to be parsed correctly..."
   ]
  },
  {
   "cell_type": "markdown",
   "metadata": {},
   "source": [
    "---"
   ]
  },
  {
   "cell_type": "markdown",
   "metadata": {},
   "source": [
    "#### Quicker way to get files from ```wget``` cmd tool"
   ]
  },
  {
   "cell_type": "code",
   "execution_count": 140,
   "metadata": {},
   "outputs": [
    {
     "name": "stdout",
     "output_type": "stream",
     "text": [
      "Downloading : Fronts_highres_KWBC_20201026_0000.txt \n",
      "From : https://thredds-test.unidata.ucar.edu/thredds/fileServer/noaaport/text/fronts/\n"
     ]
    },
    {
     "data": {
      "text/plain": [
       "256"
      ]
     },
     "execution_count": 140,
     "metadata": {},
     "output_type": "execute_result"
    }
   ],
   "source": [
    "import os\n",
    "print(f'Downloading : {txt_url} \\nFrom : {base_url}')\n",
    "os.system(f'wget : {one_url}')"
   ]
  },
  {
   "cell_type": "code",
   "execution_count": null,
   "metadata": {},
   "outputs": [],
   "source": []
  }
 ],
 "metadata": {
  "kernelspec": {
   "display_name": "Python 3",
   "language": "python",
   "name": "python3"
  },
  "language_info": {
   "codemirror_mode": {
    "name": "ipython",
    "version": 3
   },
   "file_extension": ".py",
   "mimetype": "text/x-python",
   "name": "python",
   "nbconvert_exporter": "python",
   "pygments_lexer": "ipython3",
   "version": "3.7.3"
  }
 },
 "nbformat": 4,
 "nbformat_minor": 4
}
